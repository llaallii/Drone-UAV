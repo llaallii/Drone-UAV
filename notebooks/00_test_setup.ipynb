{
 "cells": [
  {
   "cell_type": "markdown",
   "metadata": {},
   "source": [
    "# Setup Test\n",
    "\n",
    "Quick notebook to verify that everything is installed and working correctly."
   ]
  },
  {
   "cell_type": "markdown",
   "metadata": {},
   "source": [
    "## 1. Test Imports"
   ]
  },
  {
   "cell_type": "code",
   "execution_count": null,
   "metadata": {},
   "outputs": [],
   "source": [
    "import sys\n",
    "import os\n",
    "\n",
    "# Add parent directory to path\n",
    "parent_dir = os.path.abspath('..')\n",
    "if parent_dir not in sys.path:\n",
    "    sys.path.insert(0, parent_dir)\n",
    "\n",
    "print(\"Testing imports...\\n\")\n",
    "\n",
    "# Test basic imports\n",
    "try:\n",
    "    import numpy as np\n",
    "    print(\"✅ NumPy\")\n",
    "except ImportError as e:\n",
    "    print(f\"❌ NumPy: {e}\")\n",
    "\n",
    "try:\n",
    "    import torch\n",
    "    print(f\"✅ PyTorch {torch.__version__}\")\n",
    "    print(f\"   CUDA available: {torch.cuda.is_available()}\")\n",
    "    if torch.cuda.is_available():\n",
    "        print(f\"   GPU: {torch.cuda.get_device_name(0)}\")\n",
    "except ImportError as e:\n",
    "    print(f\"❌ PyTorch: {e}\")\n",
    "\n",
    "try:\n",
    "    import gymnasium as gym\n",
    "    print(f\"✅ Gymnasium\")\n",
    "except ImportError as e:\n",
    "    print(f\"❌ Gymnasium: {e}\")\n",
    "\n",
    "try:\n",
    "    import stable_baselines3\n",
    "    print(f\"✅ Stable-Baselines3 {stable_baselines3.__version__}\")\n",
    "except ImportError as e:\n",
    "    print(f\"❌ Stable-Baselines3: {e}\")\n",
    "\n",
    "try:\n",
    "    import mujoco\n",
    "    print(f\"✅ MuJoCo\")\n",
    "except ImportError as e:\n",
    "    print(f\"❌ MuJoCo: {e}\")\n",
    "\n",
    "try:\n",
    "    from crazy_flie_env import CrazyFlieEnv\n",
    "    print(\"✅ CrazyFlieEnv\")\n",
    "except ImportError as e:\n",
    "    print(f\"❌ CrazyFlieEnv: {e}\")"
   ]
  },
  {
   "cell_type": "markdown",
   "metadata": {},
   "source": [
    "## 2. Test Training Module"
   ]
  },
  {
   "cell_type": "code",
   "execution_count": null,
   "metadata": {},
   "outputs": [],
   "source": [
    "print(\"Testing training module...\\n\")\n",
    "\n",
    "try:\n",
    "    from train.config import TrainingConfig\n",
    "    print(\"✅ train.config\")\n",
    "except ImportError as e:\n",
    "    print(f\"❌ train.config: {e}\")\n",
    "\n",
    "try:\n",
    "    from train.networks import CustomCNN\n",
    "    print(\"✅ train.networks\")\n",
    "except ImportError as e:\n",
    "    print(f\"❌ train.networks: {e}\")\n",
    "\n",
    "try:\n",
    "    from train.simple_train import train_ppo, train_sac\n",
    "    print(\"✅ train.simple_train\")\n",
    "except ImportError as e:\n",
    "    print(f\"❌ train.simple_train: {e}\")\n",
    "\n",
    "try:\n",
    "    from train.test_utils import test_model, quick_test\n",
    "    print(\"✅ train.test_utils\")\n",
    "except ImportError as e:\n",
    "    print(f\"❌ train.test_utils: {e}\")"
   ]
  },
  {
   "cell_type": "markdown",
   "metadata": {},
   "source": [
    "## 3. Test Environment"
   ]
  },
  {
   "cell_type": "code",
   "execution_count": null,
   "metadata": {},
   "outputs": [],
   "source": [
    "print(\"Testing environment...\\n\")\n",
    "\n",
    "try:\n",
    "    from crazy_flie_env import CrazyFlieEnv\n",
    "    \n",
    "    # Create environment\n",
    "    env = CrazyFlieEnv()\n",
    "    print(\"✅ Environment created\")\n",
    "    \n",
    "    # Reset\n",
    "    obs, info = env.reset()\n",
    "    print(\"✅ Environment reset\")\n",
    "    \n",
    "    # Check observation\n",
    "    print(f\"\\nObservation space: {env.observation_space}\")\n",
    "    print(f\"Action space: {env.action_space}\")\n",
    "    print(f\"State shape: {obs['state'].shape}\")\n",
    "    print(f\"Image shape: {obs['image'].shape}\")\n",
    "    \n",
    "    # Test step\n",
    "    action = env.action_space.sample()\n",
    "    obs, reward, terminated, truncated, info = env.step(action)\n",
    "    print(f\"\\n✅ Step executed\")\n",
    "    print(f\"   Reward: {reward:.3f}\")\n",
    "    print(f\"   Terminated: {terminated}\")\n",
    "    print(f\"   Truncated: {truncated}\")\n",
    "    \n",
    "    env.close()\n",
    "    print(\"\\n✅ Environment test passed!\")\n",
    "    \n",
    "except Exception as e:\n",
    "    print(f\"❌ Environment test failed: {e}\")\n",
    "    import traceback\n",
    "    traceback.print_exc()"
   ]
  },
  {
   "cell_type": "markdown",
   "metadata": {},
   "source": [
    "## 4. Test Configuration"
   ]
  },
  {
   "cell_type": "code",
   "execution_count": null,
   "metadata": {},
   "outputs": [],
   "source": [
    "print(\"Testing configuration...\\n\")\n",
    "\n",
    "try:\n",
    "    from train.config import TrainingConfig\n",
    "    \n",
    "    # Create config\n",
    "    config = TrainingConfig(\n",
    "        algorithm=\"PPO\",\n",
    "        total_timesteps=10_000,\n",
    "        num_envs=2\n",
    "    )\n",
    "    \n",
    "    print(\"✅ Configuration created\")\n",
    "    print(f\"\\nConfiguration:\")\n",
    "    print(f\"  Algorithm: {config.algorithm}\")\n",
    "    print(f\"  Timesteps: {config.total_timesteps:,}\")\n",
    "    print(f\"  Environments: {config.num_envs}\")\n",
    "    print(f\"  Device: {config.device}\")\n",
    "    print(f\"  Learning rate: {config.learning_rate}\")\n",
    "    print(f\"  Batch size: {config.batch_size}\")\n",
    "    \n",
    "except Exception as e:\n",
    "    print(f\"❌ Configuration test failed: {e}\")"
   ]
  },
  {
   "cell_type": "markdown",
   "metadata": {},
   "source": [
    "## 5. System Info"
   ]
  },
  {
   "cell_type": "code",
   "execution_count": null,
   "metadata": {},
   "outputs": [],
   "source": [
    "import platform\n",
    "import torch\n",
    "\n",
    "print(\"System Information:\\n\")\n",
    "print(f\"Platform: {platform.platform()}\")\n",
    "print(f\"Python: {platform.python_version()}\")\n",
    "print(f\"PyTorch: {torch.__version__}\")\n",
    "print(f\"CUDA Available: {torch.cuda.is_available()}\")\n",
    "\n",
    "if torch.cuda.is_available():\n",
    "    print(f\"CUDA Version: {torch.version.cuda}\")\n",
    "    print(f\"GPU: {torch.cuda.get_device_name(0)}\")\n",
    "    print(f\"GPU Memory: {torch.cuda.get_device_properties(0).total_memory / 1024**3:.1f} GB\")\n",
    "\n",
    "try:\n",
    "    import psutil\n",
    "    print(f\"\\nCPU Cores: {psutil.cpu_count()}\")\n",
    "    print(f\"RAM: {psutil.virtual_memory().total / 1024**3:.1f} GB\")\n",
    "except:\n",
    "    pass"
   ]
  },
  {
   "cell_type": "markdown",
   "metadata": {},
   "source": [
    "## Summary\n",
    "\n",
    "If all tests passed (✅), you're ready to start training!\n",
    "\n",
    "Next steps:\n",
    "1. Open [01_basic_training.ipynb](01_basic_training.ipynb) to start training\n",
    "2. Modify training parameters in the config\n",
    "3. Train your first drone agent!"
   ]
  }
 ],
 "metadata": {
  "kernelspec": {
   "display_name": "Python 3",
   "language": "python",
   "name": "python3"
  },
  "language_info": {
   "codemirror_mode": {
    "name": "ipython",
    "version": 3
   },
   "file_extension": ".py",
   "mimetype": "text/x-python",
   "name": "python",
   "nbconvert_exporter": "python",
   "pygments_lexer": "ipython3",
   "version": "3.10.0"
  }
 },
 "nbformat": 4,
 "nbformat_minor": 4
}
