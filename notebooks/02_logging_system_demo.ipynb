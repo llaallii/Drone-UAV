{
 "cells": [
  {
   "cell_type": "markdown",
   "id": "5397db9a",
   "metadata": {},
   "source": [
    "# CrazyFlie RL Environment - Logging System Demo\n",
    "\n",
    "This notebook demonstrates the new centralized logging system that replaces all print statements.\n",
    "\n",
    "## Key Features:\n",
    "- **Timestamped log files** in `logs/` directory\n",
    "- **Console shows only warnings/errors** (configurable)\n",
    "- **Different log levels**: DEBUG, INFO, WARNING, ERROR\n",
    "- **Emoji-based formatting** maintained in log files\n",
    "- **Automatic initialization** in training functions"
   ]
  },
  {
   "cell_type": "markdown",
   "id": "d0f1f88c",
   "metadata": {},
   "source": [
    "## 1. Setup and Imports\n",
    "\n",
    "The logging system is automatically initialized when you call training functions."
   ]
  },
  {
   "cell_type": "code",
   "execution_count": 1,
   "id": "edda692e",
   "metadata": {},
   "outputs": [
    {
     "name": "stdout",
     "output_type": "stream",
     "text": [
      "✅ Imports successful!\n"
     ]
    }
   ],
   "source": [
    "import sys\n",
    "import os\n",
    "\n",
    "# Add parent directory to path if needed\n",
    "parent_dir = os.path.abspath('..')\n",
    "if parent_dir not in sys.path:\n",
    "    sys.path.insert(0, parent_dir)\n",
    "\n",
    "# Import training utilities\n",
    "from train.simple_train import train_ppo\n",
    "from train.config import TrainingConfig\n",
    "from train.test_utils import quick_test\n",
    "from crazy_flie_env.utils.logging_utils import setup_logging, get_logger\n",
    "\n",
    "print(\"✅ Imports successful!\")"
   ]
  },
  {
   "cell_type": "markdown",
   "id": "8fe67585",
   "metadata": {},
   "source": [
    "## 2. Manual Logging Setup (Optional)\n",
    "\n",
    "You can manually set up logging if you want to customize the levels:"
   ]
  },
  {
   "cell_type": "code",
   "execution_count": 2,
   "id": "5a07514d",
   "metadata": {},
   "outputs": [
    {
     "name": "stdout",
     "output_type": "stream",
     "text": [
      "2025-10-01 16:14:02,330 - ✅ crazy_flie_env.utils.logging_utils - INFO - Logging initialized - Log file: logs\\drone_training_20251001_161402.log\n",
      "2025-10-01 16:14:02,332 - ✅ crazy_flie_env.utils.logging_utils - INFO - Console level: INFO, File level: DEBUG\n",
      "2025-10-01 16:14:02,333 - ✅ __main__ - INFO - Logging initialized! Log file: logs\\drone_training_20251001_161402.log\n",
      "2025-10-01 16:14:02,332 - ✅ crazy_flie_env.utils.logging_utils - INFO - Console level: INFO, File level: DEBUG\n",
      "2025-10-01 16:14:02,333 - ✅ __main__ - INFO - Logging initialized! Log file: logs\\drone_training_20251001_161402.log\n",
      "2025-10-01 16:14:02,336 - ⚠️ __main__ - WARNING - This warning appears both in console and log file\n",
      "2025-10-01 16:14:02,336 - ⚠️ __main__ - WARNING - This warning appears both in console and log file\n"
     ]
    }
   ],
   "source": [
    "import logging\n",
    "\n",
    "# Setup logging with custom levels\n",
    "# console_level: What appears in notebook output (WARNING = only warnings/errors)\n",
    "# file_level: What gets saved to log file (DEBUG = everything)\n",
    "log_file_path = setup_logging(\n",
    "    console_level=logging.INFO,  # Show info messages in console for demo\n",
    "    file_level=logging.DEBUG     # Save everything to file\n",
    ")\n",
    "\n",
    "logger = get_logger(__name__)\n",
    "logger.info(f\"Logging initialized! Log file: {log_file_path}\")\n",
    "logger.debug(\"This debug message only appears in the log file\")\n",
    "logger.warning(\"This warning appears both in console and log file\")"
   ]
  },
  {
   "cell_type": "markdown",
   "id": "34a75ed1",
   "metadata": {},
   "source": [
    "## 3. Training with Logging\n",
    "\n",
    "Training functions now automatically initialize logging and provide comprehensive log information:"
   ]
  },
  {
   "cell_type": "code",
   "execution_count": 3,
   "id": "7bb2d30e",
   "metadata": {},
   "outputs": [
    {
     "name": "stdout",
     "output_type": "stream",
     "text": [
      "Using cpu device\n",
      "Wrapping the env in a VecTransposeImage.\n",
      "Logging to logs/ppo_drone_20251001_161408\\PPO_1\n",
      "Logging to logs/ppo_drone_20251001_161408\\PPO_1\n"
     ]
    },
    {
     "data": {
      "application/vnd.jupyter.widget-view+json": {
       "model_id": "f53a7428465e43329a3f2a217139f176",
       "version_major": 2,
       "version_minor": 0
      },
      "text/plain": [
       "Output()"
      ]
     },
     "metadata": {},
     "output_type": "display_data"
    },
    {
     "name": "stderr",
     "output_type": "stream",
     "text": [
      "c:\\Users\\Ratan.Bunkar\\Learning\\general\\rl-agent\\Drone-UAV\\.conda\\lib\\site-packages\\stable_baselines3\\common\\callbacks.py:418: UserWarning: Training and eval env are not of the same type<stable_baselines3.common.vec_env.vec_transpose.VecTransposeImage object at 0x0000018D85C0D990> != <stable_baselines3.common.vec_env.dummy_vec_env.DummyVecEnv object at 0x0000018D85C0D030>\n",
      "  warnings.warn(\"Training and eval env are not of the same type\" f\"{self.training_env} != {self.eval_env}\")\n"
     ]
    },
    {
     "ename": "",
     "evalue": "",
     "output_type": "error",
     "traceback": [
      "\u001b[1;31mThe Kernel crashed while executing code in the current cell or a previous cell. \n",
      "\u001b[1;31mPlease review the code in the cell(s) to identify a possible cause of the failure. \n",
      "\u001b[1;31mClick <a href='https://aka.ms/vscodeJupyterKernelCrash'>here</a> for more info. \n",
      "\u001b[1;31mView Jupyter <a href='command:jupyter.viewOutput'>log</a> for further details."
     ]
    }
   ],
   "source": [
    "# Configure a quick training run\n",
    "config = TrainingConfig(\n",
    "    total_timesteps=10_000,  # Short training for demo\n",
    "    num_envs=1,\n",
    "    learning_rate=3e-4,\n",
    "    eval_freq=5_000\n",
    ")\n",
    "\n",
    "# Train the model - logging is automatically set up\n",
    "model, results = train_ppo(config)\n",
    "\n",
    "print(f\"\\n📁 Training complete!\")\n",
    "print(f\"Model saved to: {results['final_model_path']}\")\n",
    "print(f\"Training logs: Check the logs/ directory for detailed information\")"
   ]
  },
  {
   "cell_type": "markdown",
   "id": "ef1300a3",
   "metadata": {},
   "source": [
    "## 4. Testing with Logging\n",
    "\n",
    "Test functions also use the logging system:"
   ]
  },
  {
   "cell_type": "code",
   "execution_count": null,
   "id": "2de18c71",
   "metadata": {},
   "outputs": [],
   "source": [
    "# Quick test of the trained model\n",
    "if 'results' in locals() and results['final_model_path']:\n",
    "    quick_test(results['final_model_path'])\n",
    "else:\n",
    "    print(\"No trained model available for testing\")"
   ]
  },
  {
   "cell_type": "markdown",
   "id": "1097b9c1",
   "metadata": {},
   "source": [
    "## 5. Log File Analysis\n",
    "\n",
    "Let's examine what gets logged to files:"
   ]
  },
  {
   "cell_type": "code",
   "execution_count": null,
   "id": "e279d8ae",
   "metadata": {},
   "outputs": [],
   "source": [
    "import glob\n",
    "from datetime import datetime\n",
    "\n",
    "# Find the most recent log file\n",
    "log_files = glob.glob(\"logs/drone_training_*.log\")\n",
    "if log_files:\n",
    "    latest_log = max(log_files, key=os.path.getctime)\n",
    "    \n",
    "    print(f\"📄 Latest log file: {latest_log}\")\n",
    "    print(f\"📊 File size: {os.path.getsize(latest_log)} bytes\")\n",
    "    \n",
    "    # Show first 20 lines of the log file\n",
    "    print(\"\\n🔍 First 20 lines of log file:\")\n",
    "    print(\"=\" * 80)\n",
    "    \n",
    "    with open(latest_log, 'r', encoding='utf-8') as f:\n",
    "        for i, line in enumerate(f):\n",
    "            if i >= 20:\n",
    "                break\n",
    "            print(line.rstrip())\n",
    "    \n",
    "    print(\"=\" * 80)\n",
    "    print(\"\\n💡 Full logs contain detailed debug information, system info, and training progress.\")\n",
    "else:\n",
    "    print(\"No log files found. Run a training session first.\")"
   ]
  },
  {
   "cell_type": "markdown",
   "id": "3f9790fc",
   "metadata": {},
   "source": [
    "## 6. Understanding Log Levels\n",
    "\n",
    "The logging system uses different levels for different types of information:"
   ]
  },
  {
   "cell_type": "code",
   "execution_count": null,
   "id": "07fd5f53",
   "metadata": {},
   "outputs": [],
   "source": [
    "# Demonstrate different log levels\n",
    "logger = get_logger(__name__)\n",
    "\n",
    "print(\"Demonstrating different log levels:\")\n",
    "print(\"(Note: Only INFO and above show in console with default settings)\\n\")\n",
    "\n",
    "logger.debug(\"🔍 DEBUG: Detailed debug information (file only)\")\n",
    "logger.info(\"✅ INFO: General information about program execution\")\n",
    "logger.warning(\"⚠️ WARNING: Something unexpected happened but program continues\")\n",
    "logger.error(\"❌ ERROR: A serious problem occurred\")\n",
    "\n",
    "print(\"\\n💡 All messages above are saved to the log file with timestamps and emojis!\")"
   ]
  },
  {
   "cell_type": "markdown",
   "id": "1df37084",
   "metadata": {},
   "source": [
    "## 7. Configuration and Best Practices\n",
    "\n",
    "### Console vs File Logging\n",
    "- **Console**: Shows only warnings/errors by default (keeps notebook output clean)\n",
    "- **File**: Captures everything (DEBUG, INFO, WARNING, ERROR) with full context\n",
    "\n",
    "### Log File Locations\n",
    "- Training logs: `logs/drone_training_YYYYMMDD_HHMMSS.log`\n",
    "- Each training run gets its own timestamped log file\n",
    "\n",
    "### What Gets Logged\n",
    "- **System information** at startup\n",
    "- **Training configuration** parameters\n",
    "- **Environment initialization** details\n",
    "- **Camera and physics setup** information\n",
    "- **Training progress** and metrics\n",
    "- **Error handling** and warnings\n",
    "- **Model saving** and completion status\n",
    "\n",
    "### Migration from Print Statements\n",
    "- ✅ **Success messages** → `logger.info()`\n",
    "- 🔍 **Debug information** → `logger.debug()`\n",
    "- ⚠️ **Warnings/problems** → `logger.warning()`\n",
    "- ❌ **Errors** → `logger.error()`"
   ]
  },
  {
   "cell_type": "markdown",
   "id": "e738329c",
   "metadata": {},
   "source": [
    "## 8. Checking All Log Files\n",
    "\n",
    "View all available log files:"
   ]
  },
  {
   "cell_type": "code",
   "execution_count": null,
   "id": "7f65744b",
   "metadata": {},
   "outputs": [],
   "source": [
    "# List all log files\n",
    "log_files = glob.glob(\"logs/*.log\")\n",
    "if log_files:\n",
    "    print(f\"📂 Found {len(log_files)} log files:\")\n",
    "    print()\n",
    "    \n",
    "    for log_file in sorted(log_files):\n",
    "        size = os.path.getsize(log_file)\n",
    "        mtime = datetime.fromtimestamp(os.path.getmtime(log_file))\n",
    "        print(f\"  📄 {os.path.basename(log_file)}\")\n",
    "        print(f\"      Size: {size} bytes, Modified: {mtime.strftime('%Y-%m-%d %H:%M:%S')}\")\n",
    "else:\n",
    "    print(\"No log files found yet. Run some training to generate logs!\")"
   ]
  }
 ],
 "metadata": {
  "kernelspec": {
   "display_name": ".conda",
   "language": "python",
   "name": "python3"
  },
  "language_info": {
   "codemirror_mode": {
    "name": "ipython",
    "version": 3
   },
   "file_extension": ".py",
   "mimetype": "text/x-python",
   "name": "python",
   "nbconvert_exporter": "python",
   "pygments_lexer": "ipython3",
   "version": "3.10.18"
  }
 },
 "nbformat": 4,
 "nbformat_minor": 5
}
